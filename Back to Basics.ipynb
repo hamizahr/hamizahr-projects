{
 "cells": [
  {
   "cell_type": "markdown",
   "metadata": {},
   "source": [
    "Section 2 - Task 4: Calculate the average of your last 6-months electricity bill"
   ]
  },
  {
   "cell_type": "code",
   "execution_count": 2,
   "metadata": {},
   "outputs": [
    {
     "name": "stdout",
     "output_type": "stream",
     "text": [
      "*************************************************************\n",
      "Calculate the average of your last 6-months electricity bill\n",
      "*************************************************************\n",
      "\n",
      "Enter Bill #1: 114.56\n",
      "Enter Bill #2: 178.88\n",
      "Enter Bill #3: 125.76\n",
      "Enter Bill #4: 152.32\n",
      "Enter Bill #5: 155.84\n",
      "Enter Bill #6: 130.22\n",
      "Your electricity bills for the past 6 months are: \n",
      "$114.56, $178.88, $125.76, $152.32, $155.84, $130.22\n",
      "The average of your electricity bills is 142.93\n"
     ]
    }
   ],
   "source": [
    "text = '*************************************************************\\n' + 'Calculate the average of your last 6-months electricity bill\\n' + '*************************************************************\\n'\n",
    "print(text)\n",
    "\n",
    "bill_1 = float(input('Enter Bill #1: '))\n",
    "bill_2 = float(input('Enter Bill #2: '))\n",
    "bill_3 = float(input('Enter Bill #3: '))\n",
    "bill_4 = float(input('Enter Bill #4: '))\n",
    "bill_5 = float(input('Enter Bill #5: '))\n",
    "bill_6 = float(input('Enter Bill #6: '))\n",
    "\n",
    "total = bill_1 + bill_2 + bill_3 + bill_4 + bill_5 + bill_6\n",
    "avg = total/6\n",
    "\n",
    "print('Your electricity bills for the past 6 months are: \\n' + f'${bill_1}, ${bill_2}, ${bill_3}, ${bill_4}, ${bill_5}, ${bill_6}\\n' + f'The average of your electricity bills is {avg}')\n"
   ]
  },
  {
   "cell_type": "markdown",
   "metadata": {},
   "source": [
    "Section 5 - Task 2: Perform simple string operations"
   ]
  },
  {
   "cell_type": "code",
   "execution_count": 1,
   "metadata": {},
   "outputs": [
    {
     "name": "stdout",
     "output_type": "stream",
     "text": [
      "Enter 3 random strings of at least 8 characters long, each separated by a comma:John Wick,The Butterfly Effect,The Mummy\n",
      "                                            \n",
      "s1 is John Wick \n",
      "Length of John Wick is 9 \n",
      "2nd and 3rd characters of John Wick is oh\n",
      "                                            \n",
      "s2 is The Butterfly Effect \n",
      "Length of The Butterfly Effect is 20 \n",
      "5th to 7th characters of The Butterfly Effect is But\n",
      "                                            \n",
      "s3 is The Mummy \n",
      "Length of The Mummy is 9 \n",
      "Last two characters of The Mummy is my\n"
     ]
    }
   ],
   "source": [
    "words = input('Enter 3 random strings of at least 8 characters long, each separated by a comma:')\n",
    "\n",
    "s1,s2,s3 = words.split(',')\n",
    "\n",
    "print( '                                            ')\n",
    "print( f's1 is {s1} \\n' + f'Length of {s1} is {len(s1)} \\n' + f'2nd and 3rd characters of {s1} is {s1[1:3]}')\n",
    "print( '                                            ')\n",
    "print( f's2 is {s2} \\n' + f'Length of {s2} is {len(s2)} \\n' + f'5th to 7th characters of {s2} is {s2[4:7]}')\n",
    "print( '                                            ')\n",
    "print( f's3 is {s3} \\n' + f'Length of {s3} is {len(s3)} \\n' + f'Last two characters of {s3} is {s3[-2:]}')"
   ]
  },
  {
   "cell_type": "markdown",
   "metadata": {},
   "source": [
    "Section 6 - Task 2: Spdonalds"
   ]
  },
  {
   "cell_type": "code",
   "execution_count": 3,
   "metadata": {},
   "outputs": [
    {
     "name": "stdout",
     "output_type": "stream",
     "text": [
      "Welcome to SPdonalds! \n",
      "Below is our Breakfast menu: \n",
      "1. SPMuffin ($5.00)   2. SPancakes ($3.00)   3. SPHashbrown ($1.50)\n",
      "Enter your choice of food: 2\n",
      "SPancakes $3.00 added!\n",
      "How many SPancakes do you want to order? :  10\n",
      "The total cost for 10 SPancakes is $30.00\n"
     ]
    }
   ],
   "source": [
    "item1 = 'SPMuffin'\n",
    "price1 = 5.00\n",
    "item2 = 'SPancakes'\n",
    "price2 = 3.00\n",
    "item3 = 'SPHashbrown'\n",
    "price3 = 1.50\n",
    "\n",
    "print( 'Welcome to SPdonalds! \\n' + 'Below is our Breakfast menu: \\n' + f'1. {item1} (${price1:.2f})   2. {item2} (${price2:.2f})   3. {item3} (${price3:.2f})')\n",
    "\n",
    "choice = int(input( 'Enter your choice of food: '))\n",
    "\n",
    "if choice == 1:\n",
    "    print( f'{item1} ${price1:.2f} added!')\n",
    "    quantity1 = int(input( f'How many {item1} do you want to order? :  '))\n",
    "    print( f'The total cost for {quantity1} {item1} is ${quantity1 * price1:.2f}')\n",
    "elif choice == 2:\n",
    "    print( f'{item2} ${price2:.2f} added!')\n",
    "    quantity2 = int(input( f'How many {item2} do you want to order? :  '))\n",
    "    print( f'The total cost for {quantity2} {item2} is ${quantity2 * price2:.2f}')\n",
    "elif choice == 3:\n",
    "    print( f'{item3} ${price3:.2f} added!')\n",
    "    quantity1 = int(input( f'How many {item3} do you want to order? :  '))\n",
    "    print( f'The total cost for {quantity3} {item3} is ${quantity3 * price3:.2f}')\n",
    "else:\n",
    "    print( f'Sorry, you have entered an invalid choice \\n' + 'Unable to continue. Exit program....')\n",
    "\n",
    "\n"
   ]
  },
  {
   "cell_type": "markdown",
   "metadata": {},
   "source": [
    "Section 7 - Task 2: Calculate sum of numbers within a range"
   ]
  },
  {
   "cell_type": "code",
   "execution_count": 5,
   "metadata": {},
   "outputs": [
    {
     "name": "stdout",
     "output_type": "stream",
     "text": [
      "This program prints the sum of a range of numbers from x to y \n",
      "For example, if x is 10 and y is 50, the program will print the sum of numbers from 10 to 50\n",
      "Please enter the value of x: 60\n",
      "Please enter the value of y: 3\n",
      "You did not enter a value of y that is greater than x\n",
      "Unable to continue. Program terminated\n"
     ]
    }
   ],
   "source": [
    "print('This program prints the sum of a range of numbers from x to y \\n' + 'For example, if x is 10 and y is 50, the program will print the sum of numbers from 10 to 50')\n",
    "valx = input( 'Please enter the value of x: ')\n",
    "valy = input( 'Please enter the value of y: ')\n",
    "\n",
    "if valx.isnumeric() and valy.isnumeric():\n",
    "    valx= int(valx)\n",
    "    valy= int(valy)\n",
    "    \n",
    "    if valx > 0 and valy>0:\n",
    "        x = valx\n",
    "        y = valy\n",
    "        sum_of_numbers = 0 \n",
    "            \n",
    "        for i in range(x, y+1): \n",
    "            sum_of_numbers += i  \n",
    "            \n",
    "        if valx < valy:\n",
    "            print(f'The sum of numbers between {valx} and {valy} is {sum_of_numbers}')\n",
    "            \n",
    "        else:\n",
    "            print('You did not enter a value of y that is greater than x')\n",
    "            print('Unable to continue. Program terminated')\n",
    "            \n",
    "    else:\n",
    "        print('One or more of your inputs are not greater than zero')\n",
    "        print('Unable to continue. Program terminated.')\n",
    "else:\n",
    "    print('One or more of your inputs are not numeric!')\n",
    "    print('Unable to continue. Program terminated')\n",
    "    "
   ]
  },
  {
   "cell_type": "markdown",
   "metadata": {},
   "source": [
    "Section 10 - Task 2: Odd and Even"
   ]
  },
  {
   "cell_type": "code",
   "execution_count": 7,
   "metadata": {},
   "outputs": [
    {
     "name": "stdout",
     "output_type": "stream",
     "text": [
      "Original List: [822, 580, 647, 674, 130, 272, 906, 256, 878, 251, 392, 15, 914, 244, 438, 702, 758, 110, 510, 191, 244, 194, 274, 264, 691, 397, 394, 196, 253, 386, 687, 100, 879, 203, 520, 288, 413, 412, 252, 397, 927, 410, 978, 123, 906, 56, 467, 618, 841, 472, 449, 824, 814, 979, 798, 979, 148, 967, 731, 531, 712, 757, 817, 590, 443, 481, 521, 169, 202, 316, 7, 841, 723, 99, 764, 379, 467, 331, 359, 73, 408, 874, 390, 155, 454, 840, 623, 614, 81, 28, 24, 677, 140, 701, 234, 99, 775, 120, 201, 838]\n",
      "\n",
      "Odd: [647, 251, 15, 191, 691, 397, 253, 687, 879, 203, 413, 397, 927, 123, 467, 841, 449, 979, 979, 967, 731, 531, 757, 817, 443, 481, 521, 169, 7, 841, 723, 99, 379, 467, 331, 359, 73, 155, 623, 81, 677, 701, 99, 775, 201]\n",
      "\n",
      "Even: [822, 580, 674, 130, 272, 906, 256, 878, 392, 914, 244, 438, 702, 758, 110, 510, 244, 194, 274, 264, 394, 196, 386, 100, 520, 288, 412, 252, 410, 978, 906, 56, 618, 472, 824, 814, 798, 148, 712, 590, 202, 316, 764, 408, 874, 390, 454, 840, 614, 28, 24, 140, 234, 120, 838]\n",
      "\n"
     ]
    }
   ],
   "source": [
    "import random\n",
    "randomlist = []\n",
    "for num in range(0,100):\n",
    "    original_list = random.randint(1,1000)\n",
    "    randomlist.append(original_list)\n",
    "print(f'Original List: {randomlist}\\n')\n",
    "\n",
    "odd_numbers = []\n",
    "even_numbers = []\n",
    "def oddandeven(numbers_list):\n",
    "    for num in numbers_list:\n",
    "        if (num%2) == 0:\n",
    "            even_numbers.append(num)\n",
    "        else:\n",
    "            odd_numbers.append(num)\n",
    "    print(f'Odd: {odd_numbers}\\n')\n",
    "    print(f'Even: {even_numbers}\\n')\n",
    "\n",
    "oddandeven(randomlist)\n"
   ]
  },
  {
   "cell_type": "code",
   "execution_count": null,
   "metadata": {},
   "outputs": [],
   "source": []
  }
 ],
 "metadata": {
  "kernelspec": {
   "display_name": "Python 3",
   "language": "python",
   "name": "python3"
  },
  "language_info": {
   "codemirror_mode": {
    "name": "ipython",
    "version": 3
   },
   "file_extension": ".py",
   "mimetype": "text/x-python",
   "name": "python",
   "nbconvert_exporter": "python",
   "pygments_lexer": "ipython3",
   "version": "3.8.5"
  }
 },
 "nbformat": 4,
 "nbformat_minor": 4
}
